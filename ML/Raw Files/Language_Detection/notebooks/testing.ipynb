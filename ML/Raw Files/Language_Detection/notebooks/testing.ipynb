{
 "cells": [
  {
   "cell_type": "code",
   "execution_count": 3,
   "id": "7a9fa350",
   "metadata": {},
   "outputs": [],
   "source": [
    "import joblib\n",
    "from count import counter\n",
    "from sklearn.feature_extraction.text import TfidfVectorizer"
   ]
  },
  {
   "cell_type": "code",
   "execution_count": 4,
   "id": "5799b175",
   "metadata": {},
   "outputs": [],
   "source": [
    "model=joblib.load(r\"C:\\Users\\Karan Brar\\Desktop\\New folder\\Language_Detection\\models\\Lang_Detector.pkl\")\n",
    "vectorizer=joblib.load(r\"C:\\Users\\Karan Brar\\Desktop\\New folder\\Language_Detection\\models\\vectorizer.pkl\")"
   ]
  },
  {
   "cell_type": "code",
   "execution_count": 10,
   "id": "89a27a41",
   "metadata": {},
   "outputs": [
    {
     "name": "stdout",
     "output_type": "stream",
     "text": [
      "['English']\n",
      "['Arabic']\n",
      "['Japanese']\n",
      "['Tamil']\n"
     ]
    }
   ],
   "source": [
    "sample1=[\"Hello my name is karan\"]\n",
    "sample2=[\"مرحبا اسمي كاران\"]\n",
    "sample3=[\"こんにちは、私の名前はカランです\"]\n",
    "sample4=[\"வணக்கம் என் பெயர் கரண்.\"]\n",
    "a=vectorizer.transform(sample1)\n",
    "b=vectorizer.transform(sample2)\n",
    "c=vectorizer.transform(sample3)\n",
    "d=vectorizer.transform(sample4)\n",
    "pred1=model.predict(a)\n",
    "print(pred1)\n",
    "pred2=model.predict(b)\n",
    "print(pred2)\n",
    "pred3=model.predict(c)\n",
    "print(pred3)\n",
    "pred4=model.predict(d)\n",
    "print(pred4)"
   ]
  },
  {
   "cell_type": "code",
   "execution_count": null,
   "id": "b3768045",
   "metadata": {},
   "outputs": [],
   "source": []
  }
 ],
 "metadata": {
  "kernelspec": {
   "display_name": "Python 3",
   "language": "python",
   "name": "python3"
  },
  "language_info": {
   "codemirror_mode": {
    "name": "ipython",
    "version": 3
   },
   "file_extension": ".py",
   "mimetype": "text/x-python",
   "name": "python",
   "nbconvert_exporter": "python",
   "pygments_lexer": "ipython3",
   "version": "3.13.5"
  }
 },
 "nbformat": 4,
 "nbformat_minor": 5
}
