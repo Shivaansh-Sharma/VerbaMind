{
 "cells": [
  {
   "cell_type": "code",
   "execution_count": 2,
   "id": "58a43e4e",
   "metadata": {},
   "outputs": [],
   "source": [
    "import numpy as np\n",
    "import pandas as pd\n"
   ]
  },
  {
   "cell_type": "code",
   "execution_count": 3,
   "id": "8007c6e0",
   "metadata": {},
   "outputs": [],
   "source": [
    "data=pd.read_csv(r\"C:\\Users\\Karan Brar\\Desktop\\New folder\\Language_Detection\\data\\dataset.csv\")"
   ]
  },
  {
   "cell_type": "code",
   "execution_count": 4,
   "id": "77b0f0e1",
   "metadata": {},
   "outputs": [
    {
     "name": "stdout",
     "output_type": "stream",
     "text": [
      "                                                Text  language\n",
      "0  klement gottwaldi surnukeha palsameeriti ning ...  Estonian\n",
      "1  sebes joseph pereira thomas  på eng the jesuit...   Swedish\n",
      "2  ถนนเจริญกรุง อักษรโรมัน thanon charoen krung เ...      Thai\n",
      "3  விசாகப்பட்டினம் தமிழ்ச்சங்கத்தை இந்துப் பத்திர...     Tamil\n",
      "4  de spons behoort tot het geslacht haliclona en...     Dutch\n"
     ]
    }
   ],
   "source": [
    "print(data.head())"
   ]
  },
  {
   "cell_type": "code",
   "execution_count": 5,
   "id": "d8d284f2",
   "metadata": {},
   "outputs": [
    {
     "name": "stdout",
     "output_type": "stream",
     "text": [
      "                                                    Text  language\n",
      "0      klement gottwaldi surnukeha palsameeriti ning ...  Estonian\n",
      "1      sebes joseph pereira thomas  på eng the jesuit...   Swedish\n",
      "2      ถนนเจริญกรุง อักษรโรมัน thanon charoen krung เ...      Thai\n",
      "3      விசாகப்பட்டினம் தமிழ்ச்சங்கத்தை இந்துப் பத்திர...     Tamil\n",
      "4      de spons behoort tot het geslacht haliclona en...     Dutch\n",
      "...                                                  ...       ...\n",
      "21995  hors du terrain les années  et  sont des année...    French\n",
      "21996  ใน พศ  หลักจากที่เสด็จประพาสแหลมมลายู ชวา อินเ...      Thai\n",
      "21997  con motivo de la celebración del septuagésimoq...   Spanish\n",
      "21998  年月，當時還只有歲的她在美國出道，以mai-k名義推出首張英文《baby i like》，由...   Chinese\n",
      "21999   aprilie sonda spațială messenger a nasa și-a ...  Romanian\n",
      "\n",
      "[22000 rows x 2 columns]\n"
     ]
    }
   ],
   "source": [
    "print(data)"
   ]
  },
  {
   "cell_type": "code",
   "execution_count": 6,
   "id": "752707b0",
   "metadata": {},
   "outputs": [
    {
     "name": "stdout",
     "output_type": "stream",
     "text": [
      "0        klement gottwaldi surnukeha palsameeriti ning ...\n",
      "1        sebes joseph pereira thomas  på eng the jesuit...\n",
      "2        ถนนเจริญกรุง อักษรโรมัน thanon charoen krung เ...\n",
      "3        விசாகப்பட்டினம் தமிழ்ச்சங்கத்தை இந்துப் பத்திர...\n",
      "4        de spons behoort tot het geslacht haliclona en...\n",
      "                               ...                        \n",
      "21995    hors du terrain les années  et  sont des année...\n",
      "21996    ใน พศ  หลักจากที่เสด็จประพาสแหลมมลายู ชวา อินเ...\n",
      "21997    con motivo de la celebración del septuagésimoq...\n",
      "21998    年月，當時還只有歲的她在美國出道，以mai-k名義推出首張英文《baby i like》，由...\n",
      "21999     aprilie sonda spațială messenger a nasa și-a ...\n",
      "Name: Text, Length: 22000, dtype: object\n",
      "0        Estonian\n",
      "1         Swedish\n",
      "2            Thai\n",
      "3           Tamil\n",
      "4           Dutch\n",
      "           ...   \n",
      "21995      French\n",
      "21996        Thai\n",
      "21997     Spanish\n",
      "21998     Chinese\n",
      "21999    Romanian\n",
      "Name: language, Length: 22000, dtype: object\n"
     ]
    }
   ],
   "source": [
    "X=data['Text']\n",
    "y=data['language']\n",
    "print(X)\n",
    "print(y)"
   ]
  },
  {
   "cell_type": "code",
   "execution_count": null,
   "id": "b595a89b",
   "metadata": {},
   "outputs": [],
   "source": []
  }
 ],
 "metadata": {
  "kernelspec": {
   "display_name": "Python 3",
   "language": "python",
   "name": "python3"
  },
  "language_info": {
   "codemirror_mode": {
    "name": "ipython",
    "version": 3
   },
   "file_extension": ".py",
   "mimetype": "text/x-python",
   "name": "python",
   "nbconvert_exporter": "python",
   "pygments_lexer": "ipython3",
   "version": "3.13.5"
  }
 },
 "nbformat": 4,
 "nbformat_minor": 5
}
