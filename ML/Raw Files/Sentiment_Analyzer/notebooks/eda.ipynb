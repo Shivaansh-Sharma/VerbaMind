{
 "cells": [
  {
   "cell_type": "code",
   "execution_count": 1,
   "id": "0786ad85",
   "metadata": {},
   "outputs": [],
   "source": [
    "import numpy as np\n",
    "import pandas as pd"
   ]
  },
  {
   "cell_type": "code",
   "execution_count": 3,
   "id": "deb9868e",
   "metadata": {},
   "outputs": [],
   "source": [
    "data=pd.read_csv(r\"C:\\Users\\Karan Brar\\Desktop\\New folder\\Sentiment_Analyzer\\data\\train.csv\")"
   ]
  },
  {
   "cell_type": "code",
   "execution_count": 12,
   "id": "359efb3f",
   "metadata": {},
   "outputs": [],
   "source": [
    "columns=data.loc[0]"
   ]
  },
  {
   "cell_type": "code",
   "execution_count": 13,
   "id": "cb88a030",
   "metadata": {},
   "outputs": [
    {
     "name": "stdout",
     "output_type": "stream",
     "text": [
      "textID                                        cb774db0d1\n",
      "text                 I`d have responded, if I were going\n",
      "selected_text        I`d have responded, if I were going\n",
      "sentiment                                        neutral\n",
      "Time of Tweet                                    morning\n",
      "Age of User                                         0-20\n",
      "Country                                      Afghanistan\n",
      "Population -2020                                38928346\n",
      "Land Area (Km²)                                 652860.0\n",
      "Density (P/Km²)                                       60\n",
      "Name: 0, dtype: object\n"
     ]
    }
   ],
   "source": [
    "print(columns)"
   ]
  },
  {
   "cell_type": "code",
   "execution_count": 24,
   "id": "a6faf6cf",
   "metadata": {},
   "outputs": [],
   "source": [
    "data=data[['text','sentiment']]"
   ]
  },
  {
   "cell_type": "code",
   "execution_count": 25,
   "id": "2b9ee13c",
   "metadata": {},
   "outputs": [
    {
     "name": "stdout",
     "output_type": "stream",
     "text": [
      "                                                text sentiment\n",
      "0                I`d have responded, if I were going   neutral\n",
      "1      Sooo SAD I will miss you here in San Diego!!!  negative\n",
      "2                          my boss is bullying me...  negative\n",
      "3                     what interview! leave me alone  negative\n",
      "4   Sons of ****, why couldn`t they put them on t...  negative\n"
     ]
    }
   ],
   "source": [
    "print(data.head())"
   ]
  },
  {
   "cell_type": "code",
   "execution_count": 26,
   "id": "2938acd5",
   "metadata": {},
   "outputs": [],
   "source": [
    "data.to_csv('new_train.csv',index=False)"
   ]
  },
  {
   "cell_type": "code",
   "execution_count": 28,
   "id": "909a7dd3",
   "metadata": {},
   "outputs": [],
   "source": [
    "test_data=pd.read_csv(r\"C:\\Users\\Karan Brar\\Desktop\\New folder\\Sentiment_Analyzer\\data\\test.csv\")"
   ]
  },
  {
   "cell_type": "code",
   "execution_count": 29,
   "id": "7852b623",
   "metadata": {},
   "outputs": [],
   "source": [
    "test_data=test_data[['text','sentiment']]"
   ]
  },
  {
   "cell_type": "code",
   "execution_count": 30,
   "id": "4f71be01",
   "metadata": {},
   "outputs": [],
   "source": [
    "test_data.to_csv('new_test.csv',index=False)"
   ]
  },
  {
   "cell_type": "code",
   "execution_count": 31,
   "id": "250e4e02",
   "metadata": {},
   "outputs": [
    {
     "name": "stdout",
     "output_type": "stream",
     "text": [
      "                                                text sentiment\n",
      "0  Last session of the day  http://twitpic.com/67ezh   neutral\n",
      "1   Shanghai is also really exciting (precisely -...  positive\n",
      "2  Recession hit Veronique Branquinho, she has to...  negative\n",
      "3                                        happy bday!  positive\n",
      "4             http://twitpic.com/4w75p - I like it!!  positive\n"
     ]
    }
   ],
   "source": [
    "print(test_data.head())"
   ]
  },
  {
   "cell_type": "code",
   "execution_count": null,
   "id": "71b5e657",
   "metadata": {},
   "outputs": [],
   "source": []
  }
 ],
 "metadata": {
  "kernelspec": {
   "display_name": "Python 3",
   "language": "python",
   "name": "python3"
  },
  "language_info": {
   "codemirror_mode": {
    "name": "ipython",
    "version": 3
   },
   "file_extension": ".py",
   "mimetype": "text/x-python",
   "name": "python",
   "nbconvert_exporter": "python",
   "pygments_lexer": "ipython3",
   "version": "3.13.5"
  }
 },
 "nbformat": 4,
 "nbformat_minor": 5
}
